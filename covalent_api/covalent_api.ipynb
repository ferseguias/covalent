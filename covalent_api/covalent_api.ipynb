{
 "cells": [
  {
   "cell_type": "code",
   "execution_count": 2,
   "metadata": {},
   "outputs": [
    {
     "data": {
      "text/plain": [
       "True"
      ]
     },
     "execution_count": 2,
     "metadata": {},
     "output_type": "execute_result"
    }
   ],
   "source": [
    "import requests\n",
    "import json\n",
    "import pandas as pd\n",
    "import os\n",
    "from dotenv import load_dotenv\n",
    "load_dotenv()"
   ]
  },
  {
   "cell_type": "code",
   "execution_count": 3,
   "metadata": {},
   "outputs": [],
   "source": [
    "host = 'https://api.covalenthq.com/'\n",
    "chain_id = '43114'\n",
    "topic = '0xd78ad95fa46c994b6551d0da85fc275fe613ce37657fb8d5e3d130840159d822'\n",
    "starting_block = '17792485'\n",
    "ending_block = '17792487'\n",
    "sender_address = '0x1acf1583bebdca21c8025e172d8e8f2817343d65'\n",
    "api_key = os.getenv(\"COVALENT_API_KEY\")\n",
    "endpoint = f'v1/{chain_id}/events/topics/{topic}/?starting-block={starting_block}&ending-block={ending_block}&sender-address={sender_address}&key={api_key}'"
   ]
  },
  {
   "cell_type": "code",
   "execution_count": 4,
   "metadata": {},
   "outputs": [
    {
     "name": "stdout",
     "output_type": "stream",
     "text": [
      "{\"data\":{\"updated_at\":\"2022-10-25T11:19:43.365292745Z\",\"items\":[{\"block_signed_at\":\"2022-07-25T16:38:36Z\",\"block_height\":17792486,\"tx_offset\":12,\"log_offset\":49,\"tx_hash\":\"0x041fff9b2fba2591762d846034a3dfc1d4619dcf86063f92935e753a9300f97f\",\"raw_log_topics\":[\"0xd78ad95fa46c994b6551d0da85fc275fe613ce37657fb8d5e3d130840159d822\",\"0x0000000000000000000000005a567d43a0e8f8eaa30c52a0d90a837b596706c0\",\"0x0000000000000000000000007e120d84cad343d3c5f85cc5d3a5e432f14e71c6\"],\"sender_contract_decimals\":18,\"sender_name\":\"Pangolin Liquidity\",\"sender_contract_ticker_symbol\":\"PGL\",\"sender_address\":\"0x1acf1583bebdca21c8025e172d8e8f2817343d65\",\"sender_address_label\":null,\"sender_logo_url\":\"https://logos.covalenthq.com/tokens/43114/0x1acf1583bebdca21c8025e172d8e8f2817343d65.png\",\"raw_log_data\":\"0x0000000000000000000000000000000000000000000000000000000000000000000000000000000000000000000000000000000000000000002749fe1dcca8e60000000000000000000000000000000000000000000000000af1819f713cdb0e0000000000000000000000000000000000000000000000000000000000000000\",\"decoded\":{\"name\":\"Swap\",\"signature\":\"Swap(indexed address sender, uint256 amount0In, uint256 amount1In, uint256 amount0Out, uint256 amount1Out, indexed address to)\",\"params\":[{\"name\":\"sender\",\"type\":\"address\",\"indexed\":true,\"decoded\":true,\"value\":\"0x5a567d43a0e8f8eaa30c52a0d90a837b596706c0\"},{\"name\":\"amount0In\",\"type\":\"uint256\",\"indexed\":false,\"decoded\":true,\"value\":\"0\"},{\"name\":\"amount1In\",\"type\":\"uint256\",\"indexed\":false,\"decoded\":true,\"value\":\"11058879862188262\"},{\"name\":\"amount0Out\",\"type\":\"uint256\",\"indexed\":false,\"decoded\":true,\"value\":\"788553931566144270\"},{\"name\":\"amount1Out\",\"type\":\"uint256\",\"indexed\":false,\"decoded\":true,\"value\":\"0\"},{\"name\":\"to\",\"type\":\"address\",\"indexed\":true,\"decoded\":true,\"value\":\"0x7e120d84cad343d3c5f85cc5d3a5e432f14e71c6\"}]}}],\"pagination\":{\"has_more\":false,\"page_number\":0,\"page_size\":100,\"total_count\":null}},\"error\":false,\"error_message\":null,\"error_code\":null}\n"
     ]
    }
   ],
   "source": [
    "result = requests.get(host+endpoint)\n",
    "print(result.text)"
   ]
  },
  {
   "cell_type": "code",
   "execution_count": 5,
   "metadata": {},
   "outputs": [
    {
     "data": {
      "text/html": [
       "<div>\n",
       "<style scoped>\n",
       "    .dataframe tbody tr th:only-of-type {\n",
       "        vertical-align: middle;\n",
       "    }\n",
       "\n",
       "    .dataframe tbody tr th {\n",
       "        vertical-align: top;\n",
       "    }\n",
       "\n",
       "    .dataframe thead th {\n",
       "        text-align: right;\n",
       "    }\n",
       "</style>\n",
       "<table border=\"1\" class=\"dataframe\">\n",
       "  <thead>\n",
       "    <tr style=\"text-align: right;\">\n",
       "      <th></th>\n",
       "      <th>block_signed_at</th>\n",
       "      <th>block_height</th>\n",
       "      <th>tx_offset</th>\n",
       "      <th>log_offset</th>\n",
       "      <th>tx_hash</th>\n",
       "      <th>raw_log_topics</th>\n",
       "      <th>sender_contract_decimals</th>\n",
       "      <th>sender_name</th>\n",
       "      <th>sender_contract_ticker_symbol</th>\n",
       "      <th>sender_address</th>\n",
       "      <th>sender_address_label</th>\n",
       "      <th>sender_logo_url</th>\n",
       "      <th>raw_log_data</th>\n",
       "      <th>decoded</th>\n",
       "    </tr>\n",
       "  </thead>\n",
       "  <tbody>\n",
       "    <tr>\n",
       "      <th>0</th>\n",
       "      <td>2022-07-25T16:38:36Z</td>\n",
       "      <td>17792486</td>\n",
       "      <td>12</td>\n",
       "      <td>49</td>\n",
       "      <td>0x041fff9b2fba2591762d846034a3dfc1d4619dcf8606...</td>\n",
       "      <td>[0xd78ad95fa46c994b6551d0da85fc275fe613ce37657...</td>\n",
       "      <td>18</td>\n",
       "      <td>Pangolin Liquidity</td>\n",
       "      <td>PGL</td>\n",
       "      <td>0x1acf1583bebdca21c8025e172d8e8f2817343d65</td>\n",
       "      <td>None</td>\n",
       "      <td>https://logos.covalenthq.com/tokens/43114/0x1a...</td>\n",
       "      <td>0x00000000000000000000000000000000000000000000...</td>\n",
       "      <td>{'name': 'Swap', 'signature': 'Swap(indexed ad...</td>\n",
       "    </tr>\n",
       "  </tbody>\n",
       "</table>\n",
       "</div>"
      ],
      "text/plain": [
       "        block_signed_at  block_height  tx_offset  log_offset  \\\n",
       "0  2022-07-25T16:38:36Z      17792486         12          49   \n",
       "\n",
       "                                             tx_hash  \\\n",
       "0  0x041fff9b2fba2591762d846034a3dfc1d4619dcf8606...   \n",
       "\n",
       "                                      raw_log_topics  \\\n",
       "0  [0xd78ad95fa46c994b6551d0da85fc275fe613ce37657...   \n",
       "\n",
       "   sender_contract_decimals         sender_name sender_contract_ticker_symbol  \\\n",
       "0                        18  Pangolin Liquidity                           PGL   \n",
       "\n",
       "                               sender_address sender_address_label  \\\n",
       "0  0x1acf1583bebdca21c8025e172d8e8f2817343d65                 None   \n",
       "\n",
       "                                     sender_logo_url  \\\n",
       "0  https://logos.covalenthq.com/tokens/43114/0x1a...   \n",
       "\n",
       "                                        raw_log_data  \\\n",
       "0  0x00000000000000000000000000000000000000000000...   \n",
       "\n",
       "                                             decoded  \n",
       "0  {'name': 'Swap', 'signature': 'Swap(indexed ad...  "
      ]
     },
     "execution_count": 5,
     "metadata": {},
     "output_type": "execute_result"
    }
   ],
   "source": [
    "json_data = json.loads(result.text)\n",
    "data = pd.DataFrame(pd.DataFrame(json_data).loc['items','data'])\n",
    "data"
   ]
  },
  {
   "cell_type": "code",
   "execution_count": 6,
   "metadata": {},
   "outputs": [
    {
     "data": {
      "text/html": [
       "<div>\n",
       "<style scoped>\n",
       "    .dataframe tbody tr th:only-of-type {\n",
       "        vertical-align: middle;\n",
       "    }\n",
       "\n",
       "    .dataframe tbody tr th {\n",
       "        vertical-align: top;\n",
       "    }\n",
       "\n",
       "    .dataframe thead th {\n",
       "        text-align: right;\n",
       "    }\n",
       "</style>\n",
       "<table border=\"1\" class=\"dataframe\">\n",
       "  <thead>\n",
       "    <tr style=\"text-align: right;\">\n",
       "      <th></th>\n",
       "      <th>name</th>\n",
       "      <th>signature</th>\n",
       "      <th>params</th>\n",
       "    </tr>\n",
       "  </thead>\n",
       "  <tbody>\n",
       "    <tr>\n",
       "      <th>0</th>\n",
       "      <td>Swap</td>\n",
       "      <td>Swap(indexed address sender, uint256 amount0In...</td>\n",
       "      <td>{'name': 'sender', 'type': 'address', 'indexed...</td>\n",
       "    </tr>\n",
       "    <tr>\n",
       "      <th>1</th>\n",
       "      <td>Swap</td>\n",
       "      <td>Swap(indexed address sender, uint256 amount0In...</td>\n",
       "      <td>{'name': 'amount0In', 'type': 'uint256', 'inde...</td>\n",
       "    </tr>\n",
       "    <tr>\n",
       "      <th>2</th>\n",
       "      <td>Swap</td>\n",
       "      <td>Swap(indexed address sender, uint256 amount0In...</td>\n",
       "      <td>{'name': 'amount1In', 'type': 'uint256', 'inde...</td>\n",
       "    </tr>\n",
       "    <tr>\n",
       "      <th>3</th>\n",
       "      <td>Swap</td>\n",
       "      <td>Swap(indexed address sender, uint256 amount0In...</td>\n",
       "      <td>{'name': 'amount0Out', 'type': 'uint256', 'ind...</td>\n",
       "    </tr>\n",
       "    <tr>\n",
       "      <th>4</th>\n",
       "      <td>Swap</td>\n",
       "      <td>Swap(indexed address sender, uint256 amount0In...</td>\n",
       "      <td>{'name': 'amount1Out', 'type': 'uint256', 'ind...</td>\n",
       "    </tr>\n",
       "    <tr>\n",
       "      <th>5</th>\n",
       "      <td>Swap</td>\n",
       "      <td>Swap(indexed address sender, uint256 amount0In...</td>\n",
       "      <td>{'name': 'to', 'type': 'address', 'indexed': T...</td>\n",
       "    </tr>\n",
       "  </tbody>\n",
       "</table>\n",
       "</div>"
      ],
      "text/plain": [
       "   name                                          signature  \\\n",
       "0  Swap  Swap(indexed address sender, uint256 amount0In...   \n",
       "1  Swap  Swap(indexed address sender, uint256 amount0In...   \n",
       "2  Swap  Swap(indexed address sender, uint256 amount0In...   \n",
       "3  Swap  Swap(indexed address sender, uint256 amount0In...   \n",
       "4  Swap  Swap(indexed address sender, uint256 amount0In...   \n",
       "5  Swap  Swap(indexed address sender, uint256 amount0In...   \n",
       "\n",
       "                                              params  \n",
       "0  {'name': 'sender', 'type': 'address', 'indexed...  \n",
       "1  {'name': 'amount0In', 'type': 'uint256', 'inde...  \n",
       "2  {'name': 'amount1In', 'type': 'uint256', 'inde...  \n",
       "3  {'name': 'amount0Out', 'type': 'uint256', 'ind...  \n",
       "4  {'name': 'amount1Out', 'type': 'uint256', 'ind...  \n",
       "5  {'name': 'to', 'type': 'address', 'indexed': T...  "
      ]
     },
     "execution_count": 6,
     "metadata": {},
     "output_type": "execute_result"
    }
   ],
   "source": [
    "pd.DataFrame(pd.DataFrame(data.loc[:,'decoded'])['decoded'][0])"
   ]
  },
  {
   "cell_type": "code",
   "execution_count": 7,
   "metadata": {},
   "outputs": [
    {
     "data": {
      "text/plain": [
       "<Response [200]>"
      ]
     },
     "execution_count": 7,
     "metadata": {},
     "output_type": "execute_result"
    }
   ],
   "source": [
    "all_chains = requests.get('https://api.covalenthq.com/v1/chains/?quote-currency=USD&format=JSON&key=ckey_4f442bc8ce844572bbb8fe4331a')\n",
    "all_chains"
   ]
  },
  {
   "cell_type": "code",
   "execution_count": 8,
   "metadata": {},
   "outputs": [
    {
     "name": "stderr",
     "output_type": "stream",
     "text": [
      "/var/folders/yl/s1pq6fh930j3frb4n30yfhv00000gn/T/ipykernel_88998/1112699797.py:1: DeprecationWarning: The parser module is deprecated and will be removed in future versions of Python\n",
      "  import parser\n"
     ]
    }
   ],
   "source": [
    "import parser"
   ]
  },
  {
   "cell_type": "code",
   "execution_count": 9,
   "metadata": {},
   "outputs": [
    {
     "data": {
      "text/html": [
       "<div>\n",
       "<style scoped>\n",
       "    .dataframe tbody tr th:only-of-type {\n",
       "        vertical-align: middle;\n",
       "    }\n",
       "\n",
       "    .dataframe tbody tr th {\n",
       "        vertical-align: top;\n",
       "    }\n",
       "\n",
       "    .dataframe thead th {\n",
       "        text-align: right;\n",
       "    }\n",
       "</style>\n",
       "<table border=\"1\" class=\"dataframe\">\n",
       "  <thead>\n",
       "    <tr style=\"text-align: right;\">\n",
       "      <th></th>\n",
       "      <th>data</th>\n",
       "      <th>error</th>\n",
       "      <th>error_message</th>\n",
       "      <th>error_code</th>\n",
       "    </tr>\n",
       "  </thead>\n",
       "  <tbody>\n",
       "    <tr>\n",
       "      <th>items</th>\n",
       "      <td>[{'name': 'eth-mainnet', 'chain_id': '1', 'is_...</td>\n",
       "      <td>False</td>\n",
       "      <td>None</td>\n",
       "      <td>None</td>\n",
       "    </tr>\n",
       "    <tr>\n",
       "      <th>pagination</th>\n",
       "      <td>None</td>\n",
       "      <td>False</td>\n",
       "      <td>None</td>\n",
       "      <td>None</td>\n",
       "    </tr>\n",
       "    <tr>\n",
       "      <th>updated_at</th>\n",
       "      <td>2022-10-25T11:19:43.801192186Z</td>\n",
       "      <td>False</td>\n",
       "      <td>None</td>\n",
       "      <td>None</td>\n",
       "    </tr>\n",
       "  </tbody>\n",
       "</table>\n",
       "</div>"
      ],
      "text/plain": [
       "                                                         data  error  \\\n",
       "items       [{'name': 'eth-mainnet', 'chain_id': '1', 'is_...  False   \n",
       "pagination                                               None  False   \n",
       "updated_at                     2022-10-25T11:19:43.801192186Z  False   \n",
       "\n",
       "           error_message error_code  \n",
       "items               None       None  \n",
       "pagination          None       None  \n",
       "updated_at          None       None  "
      ]
     },
     "execution_count": 9,
     "metadata": {},
     "output_type": "execute_result"
    }
   ],
   "source": [
    "pd.DataFrame(json.loads(all_chains.text))"
   ]
  },
  {
   "cell_type": "code",
   "execution_count": 10,
   "metadata": {},
   "outputs": [],
   "source": []
  },
  {
   "cell_type": "code",
   "execution_count": null,
   "metadata": {},
   "outputs": [],
   "source": []
  },
  {
   "cell_type": "code",
   "execution_count": null,
   "metadata": {},
   "outputs": [],
   "source": []
  },
  {
   "cell_type": "code",
   "execution_count": null,
   "metadata": {},
   "outputs": [],
   "source": []
  },
  {
   "cell_type": "code",
   "execution_count": null,
   "metadata": {},
   "outputs": [],
   "source": []
  }
 ],
 "metadata": {
  "kernelspec": {
   "display_name": "Python 3.9.7 ('base')",
   "language": "python",
   "name": "python3"
  },
  "language_info": {
   "codemirror_mode": {
    "name": "ipython",
    "version": 3
   },
   "file_extension": ".py",
   "mimetype": "text/x-python",
   "name": "python",
   "nbconvert_exporter": "python",
   "pygments_lexer": "ipython3",
   "version": "3.9.7"
  },
  "orig_nbformat": 4,
  "vscode": {
   "interpreter": {
    "hash": "81535c40c187213d8173a98c8ffbf422147d8403865cdcdb817e05fa807ec559"
   }
  }
 },
 "nbformat": 4,
 "nbformat_minor": 2
}
